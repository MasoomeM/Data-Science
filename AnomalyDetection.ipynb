{
 "cells": [
  {
   "cell_type": "code",
   "execution_count": 1,
   "metadata": {},
   "outputs": [],
   "source": [
    "#import \n",
    "import pandas as pd\n",
    "import numpy  as np\n",
    "import matplotlib.pyplot as plt\n",
    "from sklearn.ensemble import IsolationForest\n",
    "\n",
    "\n",
    "\n"
   ]
  },
  {
   "cell_type": "code",
   "execution_count": 2,
   "metadata": {},
   "outputs": [],
   "source": [
    "#read Data\n",
    "data =pd.read_csv('Output.csv') \n"
   ]
  },
  {
   "cell_type": "code",
   "execution_count": 10,
   "metadata": {},
   "outputs": [
    {
     "name": "stdout",
     "output_type": "stream",
     "text": [
      "[2, 10, 18, 22, 25, 34, 35, 36]\n",
      "0     1\n",
      "1     1\n",
      "2    -1\n",
      "3     1\n",
      "4     1\n",
      "5     1\n",
      "6     1\n",
      "7     1\n",
      "8     1\n",
      "9     1\n",
      "10   -1\n",
      "11    1\n",
      "12    1\n",
      "13    1\n",
      "14    1\n",
      "15    1\n",
      "16    1\n",
      "17    1\n",
      "18   -1\n",
      "19    1\n",
      "20    1\n",
      "21    1\n",
      "22   -1\n",
      "23    1\n",
      "24    1\n",
      "25   -1\n",
      "26    1\n",
      "27    1\n",
      "28    1\n",
      "29    1\n",
      "30    1\n",
      "31    1\n",
      "32    1\n",
      "33    1\n",
      "34   -1\n",
      "35   -1\n",
      "36   -1\n",
      "37    1\n",
      "38    1\n",
      "39    1\n",
      "40    1\n",
      "41    1\n",
      "42    1\n",
      "43    1\n",
      "44    1\n",
      "Name: anomaly, dtype: int32\n",
      "[ 1  1 -1  1  1  1  1  1  1  1 -1  1  1  1  1  1  1  1 -1  1  1  1 -1  1\n",
      "  1 -1  1  1  1  1  1  1  1  1 -1 -1 -1  1  1  1  1  1  1  1  1]\n"
     ]
    }
   ],
   "source": [
    "#Anomaly Detection with isolated Forest\n",
    "\n",
    "to_model_columns=data.columns\n",
    "clf=IsolationForest(n_estimators=100, max_samples=5, max_features=1.0, bootstrap=False, n_jobs=-1, verbose=0)\n",
    "clf.fit(data[to_model_columns])\n",
    "pred = clf.predict(data[to_model_columns])\n",
    "\n",
    "#Normal Points Scored 1, Anomaly Points Scored -1\n",
    "data['anomaly']=pred\n",
    "normalpoints=data.loc[data['anomaly']==1]\n",
    "normal_index=list(normalpoints.index)\n",
    "outliers=data.loc[data['anomaly']==-1]\n",
    "outlier_index=list(outliers.index)\n",
    "\n",
    "print(outlier_index)\n",
    "\n",
    "print(data['anomaly'])\n",
    "print(pred)\n"
   ]
  },
  {
   "cell_type": "code",
   "execution_count": null,
   "metadata": {},
   "outputs": [],
   "source": [
    "#Visualization Anomaly Point in one Feature ('NumberOfTransitionBetweenHints)\n",
    "\n",
    "clf=IsolationForest(n_estimators=100, max_samples=4, max_features=1.0, bootstrap=False, n_jobs=-1, verbose=0)\n",
    "clf.fit(data[['NumberOfTransitionBetweenHints']])\n",
    "pred = clf.predict(data[['NumberOfTransitionBetweenHints']])\n",
    "\n",
    "data['anomaly']=pred\n",
    "normalpoints=data.loc[data['anomaly']==1]\n",
    "normal_index=list(normalpoints.index)\n",
    "outliers=data.loc[data['anomaly']==-1]\n",
    "outlier_index=list(outliers.index)\n",
    "print(outlier_index)\n",
    "\n",
    "#plot Normal and Anomlay Points\n",
    "\n",
    "plt.scatter(normal_index, normalpoints['NumberOfTransitionBetweenHints'], s=20,c='green', label=\"normal points\")\n",
    "plt.scatter(outlier_index, outliers['NumberOfTransitionBetweenHints'], s=20,c='red', label=\"anomaly points\")\n",
    "plt.xlabel(\"Data Index\")\n",
    "plt.ylabel(\"NumberOfTransitionBetweenHints\")\n",
    "plt.legend(loc=\"upper right\")"
   ]
  }
 ],
 "metadata": {
  "kernelspec": {
   "display_name": "Python 3",
   "language": "python",
   "name": "python3"
  },
  "language_info": {
   "codemirror_mode": {
    "name": "ipython",
    "version": 3
   },
   "file_extension": ".py",
   "mimetype": "text/x-python",
   "name": "python",
   "nbconvert_exporter": "python",
   "pygments_lexer": "ipython3",
   "version": "3.8.5"
  }
 },
 "nbformat": 4,
 "nbformat_minor": 4
}
